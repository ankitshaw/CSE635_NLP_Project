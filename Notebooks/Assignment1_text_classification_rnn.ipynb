{
  "cells": [
    {
      "cell_type": "markdown",
      "metadata": {
        "id": "hX4n9TsbGw-f"
      },
      "source": [
        "##### Copyright 2018 The TensorFlow Authors."
      ]
    },
    {
      "cell_type": "code",
      "execution_count": null,
      "metadata": {
        "id": "0nbI5DtDGw-i"
      },
      "outputs": [],
      "source": [
        "#@title Licensed under the Apache License, Version 2.0 (the \"License\");\n",
        "# you may not use this file except in compliance with the License.\n",
        "# You may obtain a copy of the License at\n",
        "#\n",
        "# https://www.apache.org/licenses/LICENSE-2.0\n",
        "#\n",
        "# Unless required by applicable law or agreed to in writing, software\n",
        "# distributed under the License is distributed on an \"AS IS\" BASIS,\n",
        "# WITHOUT WARRANTIES OR CONDITIONS OF ANY KIND, either express or implied.\n",
        "# See the License for the specific language governing permissions and\n",
        "# limitations under the License."
      ]
    },
    {
      "cell_type": "markdown",
      "metadata": {
        "id": "9TnJztDZGw-n"
      },
      "source": [
        "# Text classification with an RNN"
      ]
    },
    {
      "cell_type": "markdown",
      "metadata": {
        "id": "AfN3bMR5Gw-o"
      },
      "source": [
        "<table class=\"tfo-notebook-buttons\" align=\"left\">\n",
        "  <td>\n",
        "    <a target=\"_blank\" href=\"https://www.tensorflow.org/text/tutorials/text_classification_rnn\"><img src=\"https://www.tensorflow.org/images/tf_logo_32px.png\" />View on TensorFlow.org</a>\n",
        "  </td>\n",
        "  <td>\n",
        "    <a target=\"_blank\" href=\"https://colab.research.google.com/github/tensorflow/text/blob/master/docs/tutorials/text_classification_rnn.ipynb\"><img src=\"https://www.tensorflow.org/images/colab_logo_32px.png\" />Run in Google Colab</a>\n",
        "  </td>\n",
        "  <td>\n",
        "    <a target=\"_blank\" href=\"https://github.com/tensorflow/text/blob/master/docs/tutorials/text_classification_rnn.ipynb\"><img src=\"https://www.tensorflow.org/images/GitHub-Mark-32px.png\" />View source on GitHub</a>\n",
        "  </td>\n",
        "  <td>\n",
        "    <a href=\"https://storage.googleapis.com/tensorflow_docs/text/docs/tutorials/text_classification_rnn.ipynb\"><img src=\"https://www.tensorflow.org/images/download_logo_32px.png\" />Download notebook</a>\n",
        "  </td>\n",
        "</table>"
      ]
    },
    {
      "cell_type": "markdown",
      "metadata": {
        "id": "lUWearf0Gw-p"
      },
      "source": [
        "This text classification tutorial trains a [recurrent neural network](https://developers.google.com/machine-learning/glossary/#recurrent_neural_network) on the [IMDB large movie review dataset](http://ai.stanford.edu/~amaas/data/sentiment/) for sentiment analysis."
      ]
    },
    {
      "cell_type": "markdown",
      "metadata": {
        "id": "_2VQo4bajwUU"
      },
      "source": [
        "## Setup"
      ]
    },
    {
      "cell_type": "code",
      "execution_count": null,
      "metadata": {
        "id": "z682XYsrjkY9"
      },
      "outputs": [],
      "source": [
        "import numpy as np\n",
        "\n",
        "import tensorflow_datasets as tfds\n",
        "import tensorflow as tf\n",
        "\n",
        "tfds.disable_progress_bar()"
      ]
    },
    {
      "cell_type": "markdown",
      "metadata": {
        "id": "1rXHa-w9JZhb"
      },
      "source": [
        "Import `matplotlib` and create a helper function to plot graphs:"
      ]
    },
    {
      "cell_type": "code",
      "execution_count": null,
      "metadata": {
        "id": "Mp1Z7P9pYRSK"
      },
      "outputs": [],
      "source": [
        "import matplotlib.pyplot as plt\n",
        "\n",
        "\n",
        "def plot_graphs(history, metric):\n",
        "  plt.plot(history.history[metric])\n",
        "  plt.plot(history.history['val_'+metric], '')\n",
        "  plt.xlabel(\"Epochs\")\n",
        "  plt.ylabel(metric)\n",
        "  plt.legend([metric, 'val_'+metric])"
      ]
    },
    {
      "cell_type": "code",
      "execution_count": null,
      "metadata": {
        "colab": {
          "base_uri": "https://localhost:8080/"
        },
        "id": "0LuHDDf_scUt",
        "outputId": "037c0241-b12c-417c-b14f-70cb558e63b0"
      },
      "outputs": [
        {
          "name": "stdout",
          "output_type": "stream",
          "text": [
            "Mounted at /content/drive\n"
          ]
        }
      ],
      "source": [
        "from google.colab import drive\n",
        "drive.mount('/content/drive')"
      ]
    },
    {
      "cell_type": "markdown",
      "metadata": {
        "id": "pRmMubr0jrE2"
      },
      "source": [
        "## Setup input pipeline\n",
        "\n",
        "\n",
        "The IMDB large movie review dataset is a *binary classification* dataset—all the reviews have either a *positive* or *negative* sentiment.\n",
        "\n",
        "Download the dataset using [TFDS](https://www.tensorflow.org/datasets). See the [loading text tutorial](https://www.tensorflow.org/tutorials/load_data/text) for details on how to load this sort of data manually.\n"
      ]
    },
    {
      "cell_type": "code",
      "execution_count": null,
      "metadata": {
        "colab": {
          "base_uri": "https://localhost:8080/",
          "height": 554
        },
        "id": "OYjGIKnMsR_y",
        "outputId": "56a1675a-5c60-4d9f-c530-e32f35706325"
      },
      "outputs": [
        {
          "name": "stdout",
          "output_type": "stream",
          "text": [
            "class 0: (265037, 5)\n",
            "class 1: (5147, 5)\n",
            "total class of 1 and0: 0    5147\n",
            "1    5147\n",
            "Name: label, dtype: int64\n",
            "(TensorSpec(shape=(), dtype=tf.string, name=None), TensorSpec(shape=(), dtype=tf.int64, name=None))\n"
          ]
        },
        {
          "data": {
            "image/png": "[encoded data removed]",
            "text/plain": [
              "<Figure size 640x480 with 1 Axes>"
            ]
          },
          "metadata": {},
          "output_type": "display_data"
        }
      ],
      "source": [
        "import pandas as pd\n",
        "# import tensorflow as tf\n",
        "\n",
        "# Load the CSV file into a Pandas DataFrame\n",
        "data = pd.read_csv('/content/intent_class_dataset2')\n",
        "\n",
        "from sklearn import preprocessing\n",
        "from keras.utils import to_categorical\n",
        "label = preprocessing.LabelEncoder()\n",
        "y = label.fit_transform(data['intent'])\n",
        "data['label'] = y\n",
        "# class count\n",
        "class_count_0, class_count_1 = data['label'].value_counts()\n",
        "\n",
        "# Separate class\n",
        "class_0 = data[data['label'] == 0]\n",
        "class_1 = data[data['label'] == 1]# print the shape of the class\n",
        "print('class 0:', class_0.shape)\n",
        "print('class 1:', class_1.shape)\n",
        "class_0_under = class_0.sample(class_count_1)\n",
        "\n",
        "data = pd.concat([class_0_under, class_1], axis=0)\n",
        "\n",
        "print(\"total class of 1 and0:\",data['label'].value_counts())# plot the count after under-sampeling\n",
        "data['label'].value_counts().plot(kind='bar', title='count (target)')\n",
        "\n",
        "df = data.copy()\n",
        "# Split the DataFrame into training and testing sets\n",
        "train_df = df.sample(frac=0.8, random_state=42)\n",
        "test_df = df.drop(train_df.index)\n",
        "\n",
        "# Create a TensorFlow Dataset from the training and testing sets\n",
        "train_dataset = tf.data.Dataset.from_tensor_slices((train_df['parent'].values, train_df['label'].values))\n",
        "test_dataset = tf.data.Dataset.from_tensor_slices((test_df['parent'].values, test_df['label'].values))\n",
        "\n",
        "# Print the element spec of the training dataset\n",
        "print(train_dataset.element_spec)\n"
      ]
    },
    {
      "cell_type": "code",
      "execution_count": null,
      "metadata": {
        "id": "SHRwRoP2nVHX"
      },
      "outputs": [],
      "source": [
        "# dataset, info = tfds.load('imdb_reviews', with_info=True,\n",
        "#                           as_supervised=True)\n",
        "# train_dataset, test_dataset = dataset['train'], dataset['test']\n",
        "\n",
        "# train_dataset.element_spec"
      ]
    },
    {
      "cell_type": "markdown",
      "metadata": {
        "id": "nWA4c2ir7g6p"
      },
      "source": [
        "Initially this returns a dataset of (text, label pairs):"
      ]
    },
    {
      "cell_type": "code",
      "execution_count": null,
      "metadata": {
        "colab": {
          "base_uri": "https://localhost:8080/"
        },
        "id": "vd4_BGKyurao",
        "outputId": "60733524-30ed-4000-a2e9-fad5b0d17483"
      },
      "outputs": [
        {
          "name": "stdout",
          "output_type": "stream",
          "text": [
            "text:  b'Hello, I\\xe2\\x80\\x99m current student highly interested CSPI. I\\xe2\\x80\\x99m currently working meeting weight requirements (max height 202, I\\xe2\\x80\\x99m 210) putting application. However, two main questions. 1. time application 85 credits complete, working another 12. would 5 credits short academically senior. However, due change major second year, 2 years following summer semester. Would academic credits close senior cause problems application? know scholarship sophomores juniors, want check won\\xe2\\x80\\x99t issue. 2. chosen CSPI, point monthly payment begin (base+BAH). Would begin shortly getting scholarship, begin boot camp following summer. I\\xe2\\x80\\x99m guessing later wasn\\xe2\\x80\\x99t sure couldn\\xe2\\x80\\x99t find answer online.'\n",
            "label:  1\n"
          ]
        }
      ],
      "source": [
        "for example, label in train_dataset.take(1):\n",
        "  print('text: ', example.numpy())\n",
        "  print('label: ', label.numpy())"
      ]
    },
    {
      "cell_type": "markdown",
      "metadata": {
        "id": "z2qVJzcEluH_"
      },
      "source": [
        "Next shuffle the data for training and create batches of these `(text, label)` pairs:"
      ]
    },
    {
      "cell_type": "code",
      "execution_count": null,
      "metadata": {
        "id": "dDsCaZCDYZgm"
      },
      "outputs": [],
      "source": [
        "BUFFER_SIZE = 10000\n",
        "BATCH_SIZE = 64"
      ]
    },
    {
      "cell_type": "code",
      "execution_count": null,
      "metadata": {
        "id": "VznrltNOnUc5"
      },
      "outputs": [],
      "source": [
        "train_dataset = train_dataset.shuffle(BUFFER_SIZE).batch(BATCH_SIZE).prefetch(tf.data.AUTOTUNE)\n",
        "test_dataset = test_dataset.batch(BATCH_SIZE).prefetch(tf.data.AUTOTUNE)"
      ]
    },
    {
      "cell_type": "code",
      "execution_count": null,
      "metadata": {
        "colab": {
          "base_uri": "https://localhost:8080/"
        },
        "id": "jqkvdcFv41wC",
        "outputId": "637c133a-7b2b-4a83-b573-ca7cd905bef3"
      },
      "outputs": [
        {
          "name": "stdout",
          "output_type": "stream",
          "text": [
            "texts:  [b'Due mental health issues left school 16 done close nothing since. work history amounts around month, neither employers would give good reference. \"life experience\" like people age have. I\\'ve isolated society. get GCSEs. got one English topics B other, along B Maths. grades probably averaged around C. capable better did, pay much attention school, bunked off, revise etc. really want get life track would ultimately like go university. Philosophy interesting topic me, ideally would like study \"good\" university. know access courses, mum sister trying convince bad idea. say likely rejected good unis access course, since life experience mediocre GCSEs. say take bunch GCSEs (Maths, sciences, couple others) preferably take A-levels perhaps access course. also say way I\\'ll get better idea enjoy studying. truth not? much mediocre GCSEs decade ago matter? lack \"life experience\" (relative I\\'d presumably get extra time required re-do GCSEs A-levels) hurt me? top unis think access courses second-rate? worry GCSEs A-levels (presumably working least part time) I\\'ll perhaps unnecessarily delaying education career, perhaps wasting money. right would look better top unis re-do GCSEs, A-levels gain life experience meantime? Thank much anyone offer answers.'\n",
            " b\"But then again  Iam going against 1000's of other kids that have the same goal\"\n",
            " b\"https://imgur.com/ngiRJ3P Hey guys. I've playing modern board games maybe past 4 years friends introduced Risk Pandemic. played heavily lot Munchkins quicker setup/time killer made lots house rules balance game know disastrous 'take that' actions effectively winning lucky one cards stop you. Munchkins still fun game group in-house rules play regularly. mix, also played lot Mafia using standard playing cards determining roles - lots fun. group ~12 people would always hang almost daily university. Unfortunately, life caught up, got older, got jobs, relationships made branched friends group time see unfortunately. games collection mainly comprises general stuff interests bring people together - reason reunite group. tricky. lot party style games social deductions. board game sessions usually mostly now, 2 player games partner... 6+ player games family that's party games/social deduction games come picture. Let's start generic questions answer bit us: **How long involved hobby?** 4 years playing mostly Munchkins, Mafia, Betrayal House Hill. **What would change collection could?** love games. I've chosen reason extensive research games fit personal taste. friends games share bring gatherings need myself. **My Favourite Game?** Although pictured, I'm big fan Betrayal House Hill probably seen plays within group. personally love love love Azul Treasure Island. T.I best game, tends flaws. I'm huge fan 1vsMany games love solo player group. **My Newest Game?** Disney's Villainous. Love it. blast 2 plays I've recently. challenging right knowing villains cards understanding objective hoot right now! **Unplayed Game Collection** Palace Madking Ludwig. found right people want learn/go setup. **Wish played More** whole collection party game 2 player suitable game. since I've played games 3-4-5 players. usually 2, 6+. love 1vsMany games want play Treasure Island Letters Whitechapel. **Games Want** want engine builders heavier weighted games. Used play Arkham Horror, Eldritch Horror, Game Thrones BG, Rising Sun etc without right group commit 2+ hour games can't seem spending money buying them. plan get Splendor looks fantastic, Viticulture, Carcosonne Hail Hydra next. Thanks reading!\"]\n",
            "\n",
            "labels:  [1 0 1]\n"
          ]
        }
      ],
      "source": [
        "for example, label in train_dataset.take(1):\n",
        "  print('texts: ', example.numpy()[:3])\n",
        "  print()\n",
        "  print('labels: ', label.numpy()[:3])"
      ]
    },
    {
      "cell_type": "markdown",
      "metadata": {
        "id": "s5eWCo88voPY"
      },
      "source": [
        "## Create the text encoder"
      ]
    },
    {
      "cell_type": "markdown",
      "metadata": {
        "id": "TFevcItw15P_"
      },
      "source": [
        "The raw text loaded by `tfds` needs to be processed before it can be used in a model. The simplest way to process text for training is using the `TextVectorization` layer. This layer has many capabilities, but this tutorial sticks to the default behavior.\n",
        "\n",
        "Create the layer, and pass the dataset's text to the layer's `.adapt` method:"
      ]
    },
    {
      "cell_type": "code",
      "execution_count": null,
      "metadata": {
        "id": "uC25Lu1Yvuqy"
      },
      "outputs": [],
      "source": [
        "VOCAB_SIZE = 1000\n",
        "encoder = tf.keras.layers.TextVectorization(\n",
        "    max_tokens=VOCAB_SIZE)\n",
        "encoder.adapt(train_dataset.map(lambda text, label: text))"
      ]
    },
    {
      "cell_type": "markdown",
      "metadata": {
        "id": "IuQzVBbe3Ldu"
      },
      "source": [
        "The `.adapt` method sets the layer's vocabulary. Here are the first 20 tokens. After the padding and unknown tokens they're sorted by frequency: "
      ]
    },
    {
      "cell_type": "code",
      "execution_count": null,
      "metadata": {
        "colab": {
          "base_uri": "https://localhost:8080/"
        },
        "id": "tBoyjjWg0Ac9",
        "outputId": "91a43d7a-cad4-4756-9932-77ddeb51e2d6"
      },
      "outputs": [
        {
          "data": {
            "text/plain": [
              "array(['', '[UNK]', 'market', 'like', 'im', 'would', 'one', 'get', 'time',\n",
              "       'it', 'also', 'ampx200b', '2', 'revenue', 'i', 'the', '3', 'know',\n",
              "       'want', 'people'], dtype='<U28')"
            ]
          },
          "execution_count": 12,
          "metadata": {},
          "output_type": "execute_result"
        }
      ],
      "source": [
        "vocab = np.array(encoder.get_vocabulary())\n",
        "vocab[:20]"
      ]
    },
    {
      "cell_type": "markdown",
      "metadata": {
        "id": "mjId5pua3jHQ"
      },
      "source": [
        "Once the vocabulary is set, the layer can encode text into indices. The tensors of indices are 0-padded to the longest sequence in the batch (unless you set a fixed `output_sequence_length`):"
      ]
    },
    {
      "cell_type": "code",
      "execution_count": null,
      "metadata": {
        "colab": {
          "base_uri": "https://localhost:8080/"
        },
        "id": "RGc7C9WiwRWs",
        "outputId": "94abd48c-1cfe-4978-e2b7-d75e7dcc2506"
      },
      "outputs": [
        {
          "data": {
            "text/plain": [
              "array([[267, 539,  97, ...,   0,   0,   0],\n",
              "       [247, 641, 263, ...,   0,   0,   0],\n",
              "       [  1, 809, 530, ...,   0,   0,   0]])"
            ]
          },
          "execution_count": 13,
          "metadata": {},
          "output_type": "execute_result"
        }
      ],
      "source": [
        "encoded_example = encoder(example)[:3].numpy()\n",
        "encoded_example"
      ]
    },
    {
      "cell_type": "markdown",
      "metadata": {
        "id": "F5cjz0bS39IN"
      },
      "source": [
        "With the default settings, the process is not completely reversible. There are three main reasons for that:\n",
        "\n",
        "1. The default value for `preprocessing.TextVectorization`'s `standardize` argument is `\"lower_and_strip_punctuation\"`.\n",
        "2. The limited vocabulary size and lack of character-based fallback results in some unknown tokens."
      ]
    },
    {
      "cell_type": "code",
      "execution_count": null,
      "metadata": {
        "colab": {
          "base_uri": "https://localhost:8080/"
        },
        "id": "N_tD0QY5wXaK",
        "outputId": "30d6201c-e174-4fe5-deda-417c2c666f96"
      },
      "outputs": [
        {
          "name": "stdout",
          "output_type": "stream",
          "text": [
            "Original:  b'Due mental health issues left school 16 done close nothing since. work history amounts around month, neither employers would give good reference. \"life experience\" like people age have. I\\'ve isolated society. get GCSEs. got one English topics B other, along B Maths. grades probably averaged around C. capable better did, pay much attention school, bunked off, revise etc. really want get life track would ultimately like go university. Philosophy interesting topic me, ideally would like study \"good\" university. know access courses, mum sister trying convince bad idea. say likely rejected good unis access course, since life experience mediocre GCSEs. say take bunch GCSEs (Maths, sciences, couple others) preferably take A-levels perhaps access course. also say way I\\'ll get better idea enjoy studying. truth not? much mediocre GCSEs decade ago matter? lack \"life experience\" (relative I\\'d presumably get extra time required re-do GCSEs A-levels) hurt me? top unis think access courses second-rate? worry GCSEs A-levels (presumably working least part time) I\\'ll perhaps unnecessarily delaying education career, perhaps wasting money. right would look better top unis re-do GCSEs, A-levels gain life experience meantime? Thank much anyone offer answers.'\n",
            "Round-trip:  due mental health issues left school 16 done close nothing since work history [UNK] around month [UNK] [UNK] would give good [UNK] life experience like people age have ive [UNK] society get [UNK] got one [UNK] [UNK] b other along b [UNK] [UNK] probably [UNK] around c [UNK] better did pay much attention school [UNK] [UNK] [UNK] etc really want get life [UNK] would [UNK] like go university [UNK] [UNK] topic me [UNK] would like study good university know access [UNK] [UNK] sister trying [UNK] bad idea say likely [UNK] good [UNK] access course since life experience [UNK] [UNK] say take [UNK] [UNK] [UNK] [UNK] couple others [UNK] take [UNK] perhaps access course also say way ill get better idea enjoy [UNK] [UNK] not much [UNK] [UNK] [UNK] ago matter [UNK] life experience [UNK] id [UNK] get [UNK] time [UNK] [UNK] [UNK] [UNK] [UNK] me top [UNK] think access [UNK] [UNK] [UNK] [UNK] [UNK] [UNK] working least part time ill perhaps [UNK] [UNK] education career perhaps [UNK] money right would look better top [UNK] [UNK] [UNK] [UNK] [UNK] life experience [UNK] thank much anyone offer [UNK]                                                                                                                                                                                                                                                                                                                                                                                                                                                                                                                                                                                                                                                                                                                                                                                                                                                                                                                                                                               \n",
            "\n",
            "Original:  b\"But then again  Iam going against 1000's of other kids that have the same goal\"\n",
            "Round-trip:  but then again [UNK] going [UNK] [UNK] of other kids that have the [UNK] [UNK]                                                                                                                                                                                                                                                                                                                                                                                                                                                                                                                                                                                                                                                                                                                                                                                                                                                                                                                                                                                                                                                                                                                                                          \n",
            "\n",
            "Original:  b\"https://imgur.com/ngiRJ3P Hey guys. I've playing modern board games maybe past 4 years friends introduced Risk Pandemic. played heavily lot Munchkins quicker setup/time killer made lots house rules balance game know disastrous 'take that' actions effectively winning lucky one cards stop you. Munchkins still fun game group in-house rules play regularly. mix, also played lot Mafia using standard playing cards determining roles - lots fun. group ~12 people would always hang almost daily university. Unfortunately, life caught up, got older, got jobs, relationships made branched friends group time see unfortunately. games collection mainly comprises general stuff interests bring people together - reason reunite group. tricky. lot party style games social deductions. board game sessions usually mostly now, 2 player games partner... 6+ player games family that's party games/social deduction games come picture. Let's start generic questions answer bit us: **How long involved hobby?** 4 years playing mostly Munchkins, Mafia, Betrayal House Hill. **What would change collection could?** love games. I've chosen reason extensive research games fit personal taste. friends games share bring gatherings need myself. **My Favourite Game?** Although pictured, I'm big fan Betrayal House Hill probably seen plays within group. personally love love love Azul Treasure Island. T.I best game, tends flaws. I'm huge fan 1vsMany games love solo player group. **My Newest Game?** Disney's Villainous. Love it. blast 2 plays I've recently. challenging right knowing villains cards understanding objective hoot right now! **Unplayed Game Collection** Palace Madking Ludwig. found right people want learn/go setup. **Wish played More** whole collection party game 2 player suitable game. since I've played games 3-4-5 players. usually 2, 6+. love 1vsMany games want play Treasure Island Letters Whitechapel. **Games Want** want engine builders heavier weighted games. Used play Arkham Horror, Eldritch Horror, Game Thrones BG, Rising Sun etc without right group commit 2+ hour games can't seem spending money buying them. plan get Splendor looks fantastic, Viticulture, Carcosonne Hail Hydra next. Thanks reading!\"\n",
            "Round-trip:  [UNK] hey guys ive playing [UNK] board games maybe past 4 years friends [UNK] risk pandemic played [UNK] lot [UNK] [UNK] [UNK] [UNK] made [UNK] house rules [UNK] game know [UNK] take that [UNK] [UNK] [UNK] [UNK] one cards stop you [UNK] still fun game group [UNK] rules play [UNK] [UNK] also played lot [UNK] using [UNK] playing cards [UNK] [UNK] [UNK] fun group 12 people would always [UNK] almost daily university [UNK] life [UNK] up got older got jobs [UNK] made [UNK] friends group time see [UNK] games collection [UNK] [UNK] general stuff [UNK] bring people together reason [UNK] group [UNK] lot party [UNK] games social [UNK] board game [UNK] usually [UNK] now 2 player games [UNK] 6 player games family thats party [UNK] [UNK] games come [UNK] lets start [UNK] questions [UNK] bit us how long [UNK] [UNK] 4 years playing [UNK] [UNK] [UNK] [UNK] house [UNK] what would change collection could love games ive [UNK] reason [UNK] research games fit [UNK] taste friends games share bring [UNK] need [UNK] my [UNK] game although [UNK] im big fan [UNK] house [UNK] probably seen [UNK] within group [UNK] love love love [UNK] [UNK] [UNK] [UNK] best game [UNK] [UNK] im huge fan [UNK] games love [UNK] player group my [UNK] game [UNK] [UNK] love it blast 2 [UNK] ive recently [UNK] right [UNK] [UNK] cards [UNK] [UNK] [UNK] right now [UNK] game collection [UNK] [UNK] [UNK] found right people want [UNK] [UNK] wish played more whole collection party game 2 player [UNK] game since ive played games [UNK] players usually 2 6 love [UNK] games want play [UNK] [UNK] [UNK] [UNK] games want want engine [UNK] [UNK] [UNK] games used play [UNK] [UNK] [UNK] [UNK] game [UNK] [UNK] [UNK] [UNK] etc without right group [UNK] 2 hour games cant seem [UNK] money [UNK] them plan get [UNK] looks [UNK] [UNK] [UNK] [UNK] [UNK] next thanks reading                                                                                                                                                                                                                                                                                                                                                                                                                                                                                                                                                                                                                                                                                                                                                                                                                                            \n",
            "\n"
          ]
        }
      ],
      "source": [
        "for n in range(3):\n",
        "  print(\"Original: \", example[n].numpy())\n",
        "  print(\"Round-trip: \", \" \".join(vocab[encoded_example[n]]))\n",
        "  print()"
      ]
    },
    {
      "cell_type": "markdown",
      "metadata": {
        "id": "bjUqGVBxGw-t"
      },
      "source": [
        "## Create the model"
      ]
    },
    {
      "cell_type": "markdown",
      "metadata": {
        "id": "W7zsmInBOCPO"
      },
      "source": [
        "![A drawing of the information flow in the model](https://github.com/tensorflow/text/blob/master/docs/tutorials/images/bidirectional.png?raw=1)"
      ]
    },
    {
      "cell_type": "markdown",
      "metadata": {
        "id": "bgs6nnSTGw-t"
      },
      "source": [
        "Above is a diagram of the model. \n",
        "\n",
        "1. This model can be build as a `tf.keras.Sequential`.\n",
        "\n",
        "2. The first layer is the `encoder`, which converts the text to a sequence of token indices.\n",
        "\n",
        "3. After the encoder is an embedding layer. An embedding layer stores one vector per word. When called, it converts the sequences of word indices to sequences of vectors. These vectors are trainable. After training (on enough data), words with similar meanings often have similar vectors.\n",
        "\n",
        "  This index-lookup is much more efficient than the equivalent operation of passing a one-hot encoded vector through a `tf.keras.layers.Dense` layer.\n",
        "\n",
        "4. A recurrent neural network (RNN) processes sequence input by iterating through the elements. RNNs pass the outputs from one timestep to their input on the next timestep.\n",
        "\n",
        "  The `tf.keras.layers.Bidirectional` wrapper can also be used with an RNN layer. This propagates the input forward and backwards through the RNN layer and then concatenates the final output. \n",
        "\n",
        "  * The main advantage of a bidirectional RNN is that the signal from the beginning of the input doesn't need to be processed all the way through every timestep to affect the output.  \n",
        "\n",
        "  * The main disadvantage of a bidirectional RNN is that you can't efficiently stream predictions as words are being added to the end.\n",
        "\n",
        "5. After the RNN has converted the sequence to a single vector the two `layers.Dense` do some final processing, and convert from this vector representation to a single logit as the classification output. \n"
      ]
    },
    {
      "cell_type": "markdown",
      "metadata": {
        "id": "V4fodCI7soQi"
      },
      "source": [
        "The code to implement this is below:"
      ]
    },
    {
      "cell_type": "code",
      "execution_count": null,
      "metadata": {
        "id": "LwfoBkmRYcP3"
      },
      "outputs": [],
      "source": [
        "model = tf.keras.Sequential([\n",
        "    encoder,\n",
        "    tf.keras.layers.Embedding(\n",
        "        input_dim=len(encoder.get_vocabulary()),\n",
        "        output_dim=64,\n",
        "        # Use masking to handle the variable sequence lengths\n",
        "        mask_zero=True),\n",
        "    tf.keras.layers.Bidirectional(tf.keras.layers.LSTM(64)),\n",
        "    tf.keras.layers.Dense(64, activation='relu'),\n",
        "    tf.keras.layers.Dense(1)\n",
        "])"
      ]
    },
    {
      "cell_type": "markdown",
      "metadata": {
        "id": "QIGmIGkkouUb"
      },
      "source": [
        "Please note that Keras sequential model is used here since all the layers in the model only have single input and produce single output. In case you want to use stateful RNN layer, you might want to build your model with Keras functional API or model subclassing so that you can retrieve and reuse the RNN layer states. Please check [Keras RNN guide](https://www.tensorflow.org/guide/keras/rnn#rnn_state_reuse) for more details."
      ]
    },
    {
      "cell_type": "markdown",
      "metadata": {
        "id": "kF-PsCk1LwjY"
      },
      "source": [
        "The embedding layer [uses masking](https://www.tensorflow.org/guide/keras/masking_and_padding) to handle the varying sequence-lengths. All the layers after the `Embedding` support masking:"
      ]
    },
    {
      "cell_type": "code",
      "execution_count": null,
      "metadata": {
        "colab": {
          "base_uri": "https://localhost:8080/"
        },
        "id": "87a8-CwfKebw",
        "outputId": "f888c8bc-7051-4d76-bd7e-a7e5ff032c9c"
      },
      "outputs": [
        {
          "name": "stdout",
          "output_type": "stream",
          "text": [
            "[False, True, True, True, True]\n"
          ]
        }
      ],
      "source": [
        "print([layer.supports_masking for layer in model.layers])"
      ]
    },
    {
      "cell_type": "markdown",
      "metadata": {
        "id": "ZlS0iaUIWLpI"
      },
      "source": [
        "To confirm that this works as expected, evaluate a sentence twice. First, alone so there's no padding to mask:"
      ]
    },
    {
      "cell_type": "code",
      "execution_count": null,
      "metadata": {
        "colab": {
          "base_uri": "https://localhost:8080/"
        },
        "id": "O41gw3KfWHus",
        "outputId": "8f91a59e-9dac-453d-a64c-6c3ae48f84a9"
      },
      "outputs": [
        {
          "name": "stdout",
          "output_type": "stream",
          "text": [
            "1/1 [==============================] - 6s 6s/step\n",
            "[0.00616884]\n"
          ]
        }
      ],
      "source": [
        "# predict on a sample text without padding.\n",
        "\n",
        "sample_text = ('The movie was cool. The animation and the graphics '\n",
        "               'were out of this world. I would recommend this movie.')\n",
        "predictions = model.predict(np.array([sample_text]))\n",
        "print(predictions[0])"
      ]
    },
    {
      "cell_type": "markdown",
      "metadata": {
        "id": "K0VQmGnEWcuz"
      },
      "source": [
        "Now, evaluate it again in a batch with a longer sentence. The result should be identical:"
      ]
    },
    {
      "cell_type": "code",
      "execution_count": null,
      "metadata": {
        "colab": {
          "base_uri": "https://localhost:8080/"
        },
        "id": "UIgpuTeFNDzq",
        "outputId": "4a4538e3-2cdb-46f6-dfb8-de78df533393"
      },
      "outputs": [
        {
          "name": "stdout",
          "output_type": "stream",
          "text": [
            "1/1 [==============================] - 0s 111ms/step\n",
            "[0.00616884]\n"
          ]
        }
      ],
      "source": [
        "# predict on a sample text with padding\n",
        "\n",
        "padding = \"the \" * 2000\n",
        "predictions = model.predict(np.array([sample_text, padding]))\n",
        "print(predictions[0])"
      ]
    },
    {
      "cell_type": "markdown",
      "metadata": {
        "id": "sRI776ZcH3Tf"
      },
      "source": [
        "Compile the Keras model to configure the training process:"
      ]
    },
    {
      "cell_type": "code",
      "execution_count": null,
      "metadata": {
        "id": "kj2xei41YZjC"
      },
      "outputs": [],
      "source": [
        "model.compile(loss=tf.keras.losses.BinaryCrossentropy(from_logits=True),\n",
        "              optimizer=tf.keras.optimizers.Adam(1e-4),\n",
        "              metrics=['accuracy'])"
      ]
    },
    {
      "cell_type": "markdown",
      "metadata": {
        "id": "zIwH3nto596k"
      },
      "source": [
        "## Train the model"
      ]
    },
    {
      "cell_type": "code",
      "execution_count": null,
      "metadata": {
        "colab": {
          "background_save": true,
          "base_uri": "https://localhost:8080/"
        },
        "id": "hw86wWS4YgR2",
        "outputId": "1cb486f5-a490-48ff-e80e-fa1c73cf06cf"
      },
      "outputs": [
        {
          "name": "stdout",
          "output_type": "stream",
          "text": [
            "Epoch 1/5\n",
            "129/129 [==============================] - 90s 618ms/step - loss: 0.5738 - accuracy: 0.7010 - val_loss: 0.3949 - val_accuracy: 0.9464\n",
            "Epoch 2/5\n",
            "129/129 [==============================] - 79s 620ms/step - loss: 0.2531 - accuracy: 0.9604 - val_loss: 0.1588 - val_accuracy: 0.9661\n",
            "Epoch 3/5\n",
            "129/129 [==============================] - 72s 563ms/step - loss: 0.1126 - accuracy: 0.9763 - val_loss: 0.0941 - val_accuracy: 0.9745\n",
            "Epoch 4/5\n",
            "129/129 [==============================] - 61s 475ms/step - loss: 0.0733 - accuracy: 0.9828 - val_loss: 0.0688 - val_accuracy: 0.9797\n",
            "Epoch 5/5\n",
            "129/129 [==============================] - 46s 359ms/step - loss: 0.0553 - accuracy: 0.9871 - val_loss: 0.0558 - val_accuracy: 0.9833\n"
          ]
        }
      ],
      "source": [
        "history = model.fit(train_dataset, epochs=5,\n",
        "                    validation_data=test_dataset,\n",
        "                    validation_steps=30)"
      ]
    },
    {
      "cell_type": "code",
      "execution_count": null,
      "metadata": {
        "colab": {
          "background_save": true
        },
        "id": "H-OuwF111wLg",
        "outputId": "3c0e9981-584b-4396-8f65-bb9a01c23d11"
      },
      "outputs": [
        {
          "name": "stderr",
          "output_type": "stream",
          "text": [
            "WARNING:absl:Found untraced functions such as lstm_cell_1_layer_call_fn, lstm_cell_1_layer_call_and_return_conditional_losses, lstm_cell_2_layer_call_fn, lstm_cell_2_layer_call_and_return_conditional_losses while saving (showing 4 of 4). These functions will not be directly callable after loading.\n"
          ]
        }
      ],
      "source": [
        "model.save('/content/drive/MyDrive/NLP_project/models/seq_model')"
      ]
    },
    {
      "cell_type": "code",
      "execution_count": null,
      "metadata": {
        "colab": {
          "background_save": true
        },
        "id": "aYuTyITz24bl"
      },
      "outputs": [],
      "source": [
        "# It can be used to reconstruct the model identically.\n",
        "model = tf.keras.models.load_model(\"/content/drive/MyDrive/NLP_project/models/seq_model\")\n",
        "\n",
        "# # Let's check:\n",
        "# np.testing.assert_allclose(\n",
        "#     model.predict(test_dataset), model.predict(test_dataset)\n",
        "# )\n",
        "\n",
        "# The reconstructed model is already compiled and has retained the optimizer\n",
        "# state, so training can resume:\n",
        "# reconstructed_model.fit(test_dataset, test_target)"
      ]
    },
    {
      "cell_type": "code",
      "execution_count": null,
      "metadata": {
        "colab": {
          "background_save": true
        },
        "id": "BaNbXi43YgUT",
        "outputId": "b6a97125-0b2a-4650-de00-9753cd31e803"
      },
      "outputs": [
        {
          "name": "stdout",
          "output_type": "stream",
          "text": [
            "33/33 [==============================] - 4s 26ms/step - loss: 0.0526 - accuracy: 0.9835\n",
            "Test Loss: 0.05259351059794426\n",
            "Test Accuracy: 0.9834871292114258\n"
          ]
        }
      ],
      "source": [
        "test_loss, test_acc = model.evaluate(test_dataset)\n",
        "\n",
        "print('Test Loss:', test_loss)\n",
        "print('Test Accuracy:', test_acc)"
      ]
    },
    {
      "cell_type": "code",
      "execution_count": null,
      "metadata": {
        "colab": {
          "background_save": true
        },
        "id": "OZmwt_mzaQJk",
        "outputId": "1319cc42-a3f6-49d1-c0b4-f6a66948af57"
      },
      "outputs": [
        {
          "data": {
            "text/plain": [
              "(0.0, 0.5997411243617534)"
            ]
          },
          "execution_count": 24,
          "metadata": {},
          "output_type": "execute_result"
        },
        {
          "data": {
            "image/png": "[encoded data removed]",
            "text/plain": [
              "<Figure size 1600x800 with 2 Axes>"
            ]
          },
          "metadata": {},
          "output_type": "display_data"
        }
      ],
      "source": [
        "plt.figure(figsize=(16, 8))\n",
        "plt.subplot(1, 2, 1)\n",
        "plot_graphs(history, 'accuracy')\n",
        "plt.ylim(None, 1)\n",
        "plt.subplot(1, 2, 2)\n",
        "plot_graphs(history, 'loss')\n",
        "plt.ylim(0, None)"
      ]
    },
    {
      "cell_type": "markdown",
      "metadata": {
        "id": "DwSE_386uhxD"
      },
      "source": [
        "Run a prediction on a new sentence:\n",
        "\n",
        "If the prediction is >= 0.0, it is positive else it is negative."
      ]
    },
    {
      "cell_type": "code",
      "execution_count": null,
      "metadata": {
        "colab": {
          "background_save": true
        },
        "id": "ZXgfQSgRW6zU",
        "outputId": "14472046-6ec9-4377-8ee1-73524a027372"
      },
      "outputs": [
        {
          "name": "stdout",
          "output_type": "stream",
          "text": [
            "1/1 [==============================] - 3s 3s/step\n",
            "[[-9.936377]]\n"
          ]
        }
      ],
      "source": [
        "#chitchat sample class =0\n",
        "sample_text = ('No, Its just adjusting to a time change')\n",
        "predictions = model.predict(np.array([sample_text]))\n",
        "print(predictions)"
      ]
    },
    {
      "cell_type": "code",
      "execution_count": null,
      "metadata": {
        "colab": {
          "background_save": true
        },
        "id": "6sOQlwQHBl-c",
        "outputId": "ccd91654-9ee8-4ce3-e3f9-5f36446ef6cc"
      },
      "outputs": [
        {
          "name": "stdout",
          "output_type": "stream",
          "text": [
            "1/1 [==============================] - 0s 23ms/step\n",
            "[[14.846942]]\n"
          ]
        }
      ],
      "source": [
        "#reddit sample class =1\n",
        "sample_text = ('Ive havng Otter Pops mpre often starting become summer, ive always wondered liquid pop would always kind \"freeze\" flick it. (Well, like slush-consistency). really interesting, want know.')\n",
        "predictions = model.predict(np.array([sample_text]))\n",
        "print(predictions)"
      ]
    },
    {
      "cell_type": "markdown",
      "metadata": {
        "id": "7g1evcaRpTKm"
      },
      "source": [
        "## Stack two or more LSTM layers\n",
        "\n",
        "Keras recurrent layers have two available modes that are controlled by the `return_sequences` constructor argument:\n",
        "\n",
        "* If `False` it returns only the last output for each input sequence (a 2D tensor of shape (batch_size, output_features)). This is the default, used in the previous model.\n",
        "\n",
        "* If `True` the full sequences of successive outputs for each timestep is returned (a 3D tensor of shape `(batch_size, timesteps, output_features)`).\n",
        "\n",
        "Here is what the flow of information looks like with `return_sequences=True`:\n",
        "\n",
        "![layered_bidirectional](https://github.com/tensorflow/text/blob/master/docs/tutorials/images/layered_bidirectional.png?raw=1)"
      ]
    },
    {
      "cell_type": "markdown",
      "metadata": {
        "id": "wbSClCrG1z8l"
      },
      "source": [
        "The interesting thing about using an `RNN` with `return_sequences=True` is that the output still has 3-axes, like the input, so it can be passed to another RNN layer, like this:"
      ]
    },
    {
      "cell_type": "code",
      "execution_count": null,
      "metadata": {
        "colab": {
          "background_save": true
        },
        "id": "jo1jjO3vn0jo"
      },
      "outputs": [],
      "source": [
        "model = tf.keras.Sequential([\n",
        "    encoder,\n",
        "    tf.keras.layers.Embedding(len(encoder.get_vocabulary()), 64, mask_zero=True),\n",
        "    tf.keras.layers.Bidirectional(tf.keras.layers.LSTM(64,  return_sequences=True)),\n",
        "    tf.keras.layers.Bidirectional(tf.keras.layers.LSTM(32)),\n",
        "    tf.keras.layers.Dense(64, activation='relu'),\n",
        "    tf.keras.layers.Dropout(0.5),\n",
        "    tf.keras.layers.Dense(1)\n",
        "])"
      ]
    },
    {
      "cell_type": "code",
      "execution_count": null,
      "metadata": {
        "colab": {
          "background_save": true
        },
        "id": "hEPV5jVGp-is"
      },
      "outputs": [],
      "source": [
        "model.compile(loss=tf.keras.losses.BinaryCrossentropy(from_logits=True),\n",
        "              optimizer=tf.keras.optimizers.Adam(1e-4),\n",
        "              metrics=['accuracy'])"
      ]
    },
    {
      "cell_type": "code",
      "execution_count": null,
      "metadata": {
        "colab": {
          "background_save": true
        },
        "id": "LeSE-YjdqAeN"
      },
      "outputs": [],
      "source": [
        "history = model.fit(train_dataset, epochs=5,\n",
        "                    validation_data=test_dataset,\n",
        "                    validation_steps=30)"
      ]
    },
    {
      "cell_type": "code",
      "execution_count": null,
      "metadata": {
        "colab": {
          "background_save": true
        },
        "id": "YTdqppyp4ugC"
      },
      "outputs": [],
      "source": [
        "model.save('/content/drive/MyDrive/NLP_project/models/seq_model2')"
      ]
    },
    {
      "cell_type": "code",
      "execution_count": null,
      "metadata": {
        "colab": {
          "background_save": true
        },
        "id": "g42v0B6A4viw"
      },
      "outputs": [],
      "source": []
    },
    {
      "cell_type": "code",
      "execution_count": null,
      "metadata": {
        "colab": {
          "background_save": true
        },
        "id": "_LdwilM1qPM3"
      },
      "outputs": [],
      "source": [
        "test_loss, test_acc = model.evaluate(test_dataset)\n",
        "\n",
        "print('Test Loss:', test_loss)\n",
        "print('Test Accuracy:', test_acc)"
      ]
    },
    {
      "cell_type": "code",
      "execution_count": null,
      "metadata": {
        "colab": {
          "background_save": true
        },
        "id": "ykUKnAoqbycW"
      },
      "outputs": [],
      "source": [
        "# predict on a sample text without padding.\n",
        "\n",
        "#chitchat sample\n",
        "sample_text = ('No, Its just adjusting to a time change')\n",
        "predictions = model.predict(np.array([sample_text]))\n",
        "print(predictions)"
      ]
    },
    {
      "cell_type": "code",
      "execution_count": null,
      "metadata": {
        "colab": {
          "background_save": true
        },
        "id": "EdeJfxJr8cZh"
      },
      "outputs": [],
      "source": [
        "# predict on a sample text without padding.\n",
        "\n",
        "#reddit sample\n",
        "sample_text = ('Ive havng Otter Pops mpre often starting become summer, ive always wondered liquid pop would always kind \"freeze\" flick it. (Well, like slush-consistency). really interesting, want know.')\n",
        "predictions = model.predict(np.array([sample_text]))\n",
        "print(predictions)"
      ]
    },
    {
      "cell_type": "code",
      "execution_count": null,
      "metadata": {
        "colab": {
          "background_save": true
        },
        "id": "_YYub0EDtwCu"
      },
      "outputs": [],
      "source": [
        "plt.figure(figsize=(16, 6))\n",
        "plt.subplot(1, 2, 1)\n",
        "plot_graphs(history, 'accuracy')\n",
        "plt.subplot(1, 2, 2)\n",
        "plot_graphs(history, 'loss')"
      ]
    },
    {
      "cell_type": "markdown",
      "metadata": {
        "id": "9xvpE3BaGw_V"
      },
      "source": [
        "Check out other existing recurrent layers such as [GRU layers](https://www.tensorflow.org/api_docs/python/tf/keras/layers/GRU).\n",
        "\n",
        "If you're interested in building custom RNNs, see the [Keras RNN Guide](https://www.tensorflow.org/guide/keras/rnn).\n"
      ]
    }
  ],
  "metadata": {
    "accelerator": "GPU",
    "colab": {
      "provenance": []
    },
    "kernelspec": {
      "display_name": "Python 3",
      "name": "python3"
    }
  },
  "nbformat": 4,
  "nbformat_minor": 0
}